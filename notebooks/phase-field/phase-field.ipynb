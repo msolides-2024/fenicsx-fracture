{
 "cells": [
  {
   "attachments": {},
   "cell_type": "markdown",
   "metadata": {
    "id": "o1rOnnKOer2R"
   },
   "source": [
    "# Gradient damage as phase-field models of brittle fracture: dolfinx example\n",
    "\n",
    "*Authors: Jack Hale, Corrado Maurini, 2021*\n",
    "\n",
    "In this notebook we implement a numerical solution of the quasi-static evolution problem for gradient damage models, and show how they can be used to solve brittle fracture problems.\n",
    "\n",
    "Denoting by $u$ the displacement field (vector valued) and by $\\alpha$ the scalar damage field we consider the energy functional\n",
    "\n",
    "$$\n",
    "\\mathcal{E}_{\\ell}(u, \\alpha)=\n",
    "\\dfrac{1}{2}\\int_{\\Omega} a({\\alpha})\n",
    "A_0\\,\\epsilon(u)\\cdot\\epsilon(u)\\,dx\n",
    "+\n",
    " \\,\n",
    "\\dfrac{G_c}{c_w} \\int_{\\Omega}\\left(\n",
    "\\dfrac{w(\\alpha)}{\\ell}+\n",
    "{\\ell}\\,\\nabla {\\alpha}\\cdot\\nabla{\\alpha}\\right)dx,\n",
    "$$\n",
    "\n",
    "where $\\epsilon(u)$ is the strain tensor, $\\sigma_0=A_0\\,\\epsilon=\\lambda \\mathrm{tr}\\epsilon+2\\mu \\epsilon$ the stress of the undamaged material, $a({\\alpha})$  the stiffness modulation function though the damage field, $w_1\\,w(\\alpha)$ the energy dissipation in an homogeouns process and $\\ell$ the internal length.\n",
    "\n",
    "In the following we will solve, at each time step $t_i$ the minimization problem \n",
    "\n",
    "$$\n",
    "\\min\\mathcal{E}_{\\ell}(u, \\alpha),\\quad u\\in\\mathcal{C}_i, \\alpha\\in \\mathcal{D}_i,\n",
    "$$\n",
    "\n",
    "where $\\mathcal{C}_i$ is the space of kinematically admissible displacement at \n",
    "time $t_i$ and $\\mathcal{D}_i$ the admissible damage fields, that should respect the irreversibility conditions \n",
    "$\\alpha\\geq\\alpha_{i-1}$. \n",
    "\n",
    "Here we will\n",
    " * Discretize the problme using $P_1$ finite elements for the displacement and the damage field\n",
    " * Use alternate minimization to solve the minimization problem at each time step\n",
    " * Use PETSc solver to solve linear problems and variational inequality at discrete level\n",
    " "
   ]
  },
  {
   "attachments": {},
   "cell_type": "markdown",
   "metadata": {
    "id": "pnn3YykUer2S"
   },
   "source": [
    "We will consider here the specific problem of the **traction of a two-dimensional bar in plane-stress**, where\n",
    "$\n",
    "\\Omega =[0,L]\\times[0,H]\n",
    "$ and the loading is given by \n",
    "under imposed end-displacement $u=(t,0)$ in $x=L$, the left-end being clamped : $u=(0,0)$ in $x=0$. \n",
    "\n",
    "You can find further informations about this model here:\n",
    "- Marigo, J.-J., Maurini, C., & Pham, K. (2016). An overview of the modelling of fracture by gradient damage models. Meccanica, 1–22. https://doi.org/10.1007/s11012-016-0538-4 "
   ]
  },
  {
   "attachments": {},
   "cell_type": "markdown",
   "metadata": {
    "id": "XdKu5cCBer2U"
   },
   "source": [
    "## Preamble \n",
    "\n",
    "Here we import the required Python modules and set few parameters.\n",
    "\n",
    "The FEniCS container does not have the `sympy` module by default so we install it using pip."
   ]
  },
  {
   "cell_type": "code",
   "execution_count": 35,
   "metadata": {
    "id": "gVc2omtmfLF6"
   },
   "outputs": [],
   "source": [
    "import matplotlib.pyplot as plt\n",
    "import numpy as np\n",
    "\n",
    "import dolfinx\n",
    "from dolfinx import mesh, fem, plot, io, la\n",
    "import ufl\n",
    "\n",
    "from mpi4py import MPI\n",
    "from petsc4py import PETSc\n",
    "\n",
    "import pyvista\n",
    "from pyvista.utilities.xvfb import start_xvfb\n",
    "start_xvfb(wait=0.5)\n",
    "\n",
    "import sys\n",
    "sys.path.append(\"../utils/\")\n",
    "\n",
    "from plots import plot_damage_state\n",
    "from petsc_problems import SNESProblem\n",
    "import dolfinx.fem.petsc"
   ]
  },
  {
   "attachments": {},
   "cell_type": "markdown",
   "metadata": {
    "id": "k78eeo7yer2Z"
   },
   "source": [
    "## Mesh \n",
    "\n",
    "We define here the mesh and the indicators for the boundary conditions. The function `generate_mesh` uses `gmsh` (https://gmsh.info/)."
   ]
  },
  {
   "cell_type": "code",
   "execution_count": null,
   "metadata": {
    "id": "S_mNubT0er2a"
   },
   "outputs": [],
   "source": [
    "L = 1.; H = 0.3\n",
    "ell_ = 0.1\n",
    "cell_size = ell_/6\n",
    "\n",
    "nx = int(L/cell_size)\n",
    "ny = int(H/cell_size)\n",
    "\n",
    "comm = MPI.COMM_WORLD\n",
    "domain = mesh.create_rectangle(\n",
    "    comm, [(0.0, 0.0), (L, H)], [nx, ny], cell_type=mesh.CellType.quadrilateral\n",
    ")\n",
    "ndim = domain.geometry.dim\n",
    "\n",
    "\n",
    "topology, cell_types, geometry = plot.vtk_mesh(domain)\n",
    "grid = pyvista.UnstructuredGrid(topology, cell_types, geometry)\n",
    "plotter = pyvista.Plotter()\n",
    "plotter.add_mesh(grid, show_edges=True, show_scalar_bar=True)\n",
    "plotter.view_xy()\n",
    "plotter.add_axes()\n",
    "plotter.set_scale(5,5)\n",
    "#plotter.reset_camera(render=True, bounds=(-L/2, L/2, -H/2, H/2, 0, 0))\n",
    "if not pyvista.OFF_SCREEN:\n",
    "    plotter.show()\n",
    "\n",
    "from pathlib import Path\n",
    "Path(\"output\").mkdir(parents=True, exist_ok=True)\n",
    "#figure = plotter.screenshot(\"output/mesh.png\")\n",
    "\n"
   ]
  },
  {
   "attachments": {},
   "cell_type": "markdown",
   "metadata": {},
   "source": [
    "## Setting the stage\n",
    "\n",
    "Setting the finite element space, the state vector, test/trial functions and measures.\n",
    "\n",
    "We use $P_1$ finite element (triangle with linear Lagrange polynomial as shape functions and nodal values as dofs) for both displacement and damage. "
   ]
  },
  {
   "cell_type": "code",
   "execution_count": 56,
   "metadata": {},
   "outputs": [],
   "source": [
    "\n",
    "V_u = fem.functionspace(domain, (\"Lagrange\", 1, (2,)))\n",
    "V_alpha = fem.functionspace(domain, (\"Lagrange\", 1))\n",
    "\n",
    "# Define the state\n",
    "u = fem.Function(V_u, name=\"Displacement\")\n",
    "alpha = fem.Function(V_alpha, name=\"Damage\")\n",
    "\n",
    "state = {\"u\": u, \"alpha\": alpha}\n",
    "\n",
    "# need upper/lower bound for the damage field\n",
    "alpha_lb = fem.Function(V_alpha, name=\"Lower bound\")\n",
    "alpha_ub = fem.Function(V_alpha, name=\"Upper bound\")\n",
    "alpha_ub.x.array[:] = 1\n",
    "alpha_lb.x.array[:] = 0\n",
    "\n",
    "# Measures\n",
    "dx = ufl.Measure(\"dx\",domain=domain)\n",
    "ds = ufl.Measure(\"ds\",domain=domain)"
   ]
  },
  {
   "attachments": {},
   "cell_type": "markdown",
   "metadata": {
    "id": "mEWA9qYuer2e"
   },
   "source": [
    "### Boundary conditions\n",
    "We impose the boundary conditions on the displacement and the damage field. "
   ]
  },
  {
   "cell_type": "code",
   "execution_count": 57,
   "metadata": {},
   "outputs": [],
   "source": [
    "def bottom(x):\n",
    "    return np.isclose(x[1], 0.0)\n",
    "\n",
    "def top(x):\n",
    "    return np.isclose(x[1], H)\n",
    "\n",
    "def right(x):\n",
    "    return np.isclose(x[0], L)\n",
    "\n",
    "def left(x):\n",
    "    return np.isclose(x[0], 0.0)\n",
    "\n",
    "fdim = domain.topology.dim-1\n",
    "\n",
    "left_facets = mesh.locate_entities_boundary(domain, fdim, left)\n",
    "right_facets = mesh.locate_entities_boundary(domain, fdim, right)\n",
    "bottom_facets = mesh.locate_entities_boundary(domain, fdim, bottom)\n",
    "top_facets = mesh.locate_entities_boundary(domain, fdim, top)\n",
    "left_boundary_dofs_ux = fem.locate_dofs_topological(V_u.sub(0), fdim, left_facets)\n",
    "right_boundary_dofs_ux = fem.locate_dofs_topological(V_u.sub(0), fdim, right_facets)\n",
    "bottom_boundary_dofs_uy = fem.locate_dofs_topological(V_u.sub(1), fdim, bottom_facets)\n",
    "top_boundary_dofs_uy = fem.locate_dofs_topological(V_u.sub(1), fdim, top_facets)\n",
    "\n",
    "\n",
    "u_D = fem.Constant(domain,PETSc.ScalarType(1.))\n",
    "bc_u_left = fem.dirichletbc(0.0, left_boundary_dofs_ux, V_u.sub(0))\n",
    "bc_u_right = fem.dirichletbc(u_D, right_boundary_dofs_ux, V_u.sub(0))\n",
    "bc_u_bottom = fem.dirichletbc(0.0, bottom_boundary_dofs_uy, V_u.sub(1))\n",
    "bc_u_top = fem.dirichletbc(0.0, top_boundary_dofs_uy, V_u.sub(1))\n",
    "bcs_u = [bc_u_left,bc_u_right]\n",
    "\n",
    "left_boundary_dofs_alpha = fem.locate_dofs_topological(V_alpha, fdim, left_facets)\n",
    "right_boundary_dofs_alpha = fem.locate_dofs_topological(V_alpha, fdim, right_facets)\n",
    "bc_alpha_left = fem.dirichletbc(0.0, left_boundary_dofs_alpha, V_alpha)\n",
    "bc_alpha_right = fem.dirichletbc(0.0, right_boundary_dofs_alpha, V_alpha)\n",
    "\n",
    "bcs_alpha = [bc_alpha_left,bc_alpha_right]"
   ]
  },
  {
   "attachments": {},
   "cell_type": "markdown",
   "metadata": {
    "id": "glu29jUver2j"
   },
   "source": [
    "## Variational formulation of the problem"
   ]
  },
  {
   "attachments": {},
   "cell_type": "markdown",
   "metadata": {
    "id": "IELp_KKger2j"
   },
   "source": [
    "### Constitutive functions\n",
    "\n",
    "We define here the constitutive functions and the related parameters. \n",
    "These functions will be used to define the energy. You can try to change them, the code is sufficiently generic to allows for a wide class of function $w$ and $a$.\n",
    "\n",
    "**Exercice:** Show by dimensional analysis that varying $G_c$ and $E$ is equivalent to a rescaling of the displacement by a factor \n",
    "\n",
    "$$\n",
    "u_0 = \\sqrt{\\frac{G_c L}{E}}\n",
    "$$\n",
    "\n",
    "We can then choose these constants freely in the numerical work and simply rescale the displacement to match the material data of a specific brittle material. \n",
    "The *real* material parameters (in the sense that they are those that affect the results) are   \n",
    "- the Poisson ratio $\\nu$ and \n",
    "- the ratio $\\ell/L$ between internal length $\\ell$ and the domain size $L$. "
   ]
  },
  {
   "cell_type": "code",
   "execution_count": 58,
   "metadata": {
    "id": "mNpej74per2k"
   },
   "outputs": [],
   "source": [
    "E, nu = fem.Constant(domain, PETSc.ScalarType(100.0)), fem.Constant(domain, PETSc.ScalarType(0.3))\n",
    "Gc = fem.Constant(domain, PETSc.ScalarType(1.0))\n",
    "ell = fem.Constant(domain, PETSc.ScalarType(ell_))\n",
    "\n",
    "def w(alpha):\n",
    "    \"\"\"Dissipated energy function as a function of the damage \"\"\"\n",
    "    return alpha\n",
    "\n",
    "def a(alpha, k_ell=1.e-6):\n",
    "    \"\"\"Stiffness modulation as a function of the damage \"\"\"\n",
    "    return (1 - alpha) ** 2 + k_ell\n",
    "\n",
    "def eps(u):\n",
    "    \"\"\"Strain tensor as a function of the displacement\"\"\"\n",
    "    return ufl.sym(ufl.grad(u))\n",
    "\n",
    "def sigma_0(u):\n",
    "    \"\"\"Stress tensor of the undamaged material as a function of the displacement\"\"\"\n",
    "    mu    = E / (2.0 * (1.0 + nu))\n",
    "    lmbda = E * nu / (1.0 - nu ** 2)\n",
    "    return 2.0 * mu * eps(u) + lmbda * ufl.tr(eps(u)) * ufl.Identity(ndim)\n",
    "\n",
    "def sigma(u,alpha):\n",
    "    \"\"\"Stress tensor of the damaged material as a function of the displacement and the damage\"\"\"\n",
    "    return a(alpha) * sigma_0(u)\n"
   ]
  },
  {
   "attachments": {},
   "cell_type": "markdown",
   "metadata": {
    "id": "JHfoqDbLer2n"
   },
   "source": [
    "**Exercise:** Show that \n",
    "1. One can relate the dissipation constant $w_1$ to the energy dissipated in a smeared representation of a crack through the following relation:\n",
    "\\begin{equation}\n",
    "{G_c}={c_w}\\,w_1\\ell,\\qquad c_w =4\\int_0^1\\sqrt{w(\\alpha)}d\\alpha\n",
    "\\end{equation}\n",
    "2. The half-width of a localisation zone is given by:\n",
    "$$\n",
    "D =  c_{1/w} \\ell,\\qquad c_{1/w}=\\int_0^1 \\frac{1}{\\sqrt{w(\\alpha)}}d\\alpha\n",
    "$$\n",
    "3. The elastic limit of the material is:\n",
    "$$\n",
    "\\sigma_c = \\sqrt{w_1\\,E_0}\\sqrt{\\dfrac{2w'(0)}{s'(0)}}= \\sqrt{\\dfrac{G_cE_0}{\\ell c_w}}\n",
    "\\sqrt{\\dfrac{2w'(0)}{s'(0)}}\n",
    "$$\n",
    "*Hint:* Calculate the damage profile and the energy of a localised solution with vanishing stress in a 1d traction problem\n",
    "\n",
    "For the function above we get (we perform the integral with `sympy`)."
   ]
  },
  {
   "cell_type": "code",
   "execution_count": null,
   "metadata": {
    "id": "ICvBNgFper2n"
   },
   "outputs": [],
   "source": [
    "import sympy \n",
    "z = sympy.Symbol(\"z\")\n",
    "c_w = 4*sympy.integrate(sympy.sqrt(w(z)),(z,0,1))\n",
    "print(\"c_w = \",c_w)\n",
    "\n",
    "c_1w = sympy.integrate(sympy.sqrt(1/w(z)),(z,0,1))\n",
    "print(\"c_1/w = \",c_1w)\n",
    "\n",
    "tmp = 2*(sympy.diff(w(z),z)/sympy.diff(1/a(z),z)).subs({\"z\":0})\n",
    "sigma_c = sympy.sqrt(tmp * Gc.value * E.value / (c_w * ell.value))\n",
    "print(\"sigma_c = %2.3f\"%sigma_c)\n",
    "\n",
    "eps_c = float(sigma_c/E.value)\n",
    "print(\"eps_c = %2.3f\"%eps_c)"
   ]
  },
  {
   "attachments": {},
   "cell_type": "markdown",
   "metadata": {
    "id": "bZqaI6gYer2t"
   },
   "source": [
    "### Energy functional and its derivatives\n",
    "\n",
    "We use the `UFL` \n",
    " component of FEniCS to define the energy functional.\n",
    "Directional derivatives of the energy are computed using symbolic computation functionalities of `UFL`, see http://fenics-ufl.readthedocs.io/en/latest/"
   ]
  },
  {
   "cell_type": "code",
   "execution_count": 60,
   "metadata": {
    "id": "Gc6yeO54er2u"
   },
   "outputs": [],
   "source": [
    "f = fem.Constant(domain,PETSc.ScalarType((0.,0.)))\n",
    "elastic_energy = 0.5 * ufl.inner(sigma(u,alpha), eps(u)) * dx \n",
    "dissipated_energy = Gc / float(c_w) * (w(alpha) / ell + ell * ufl.dot(ufl.grad(alpha), ufl.grad(alpha))) * dx\n",
    "external_work = ufl.dot(f, u) * dx \n",
    "total_energy = elastic_energy + dissipated_energy - external_work"
   ]
  },
  {
   "attachments": {},
   "cell_type": "markdown",
   "metadata": {
    "id": "5trh5kFJer2x"
   },
   "source": [
    "## Solvers"
   ]
  },
  {
   "attachments": {},
   "cell_type": "markdown",
   "metadata": {
    "id": "HOXVWrWMer2x"
   },
   "source": [
    "### Displacement problem\n",
    "The $u$-problem at fixed $\\alpha$ is a linear problem corresponding with linear elasticity. We solve it with a standard linear solver. We use automatic differention to get the first derivative of the energy. We use a direct solve to solve the linear system, but you can also easily set iterative solvers and preconditioners when solving large problem in parallel."
   ]
  },
  {
   "cell_type": "code",
   "execution_count": 61,
   "metadata": {},
   "outputs": [],
   "source": [
    "E_u = ufl.derivative(total_energy,u,ufl.TestFunction(V_u))\n",
    "E_u_u = ufl.derivative(E_u,u,ufl.TrialFunction(V_u))\n",
    "elastic_problem = SNESProblem(E_u, u, bcs_u)\n",
    "\n",
    "b_u = la.create_petsc_vector(V_u.dofmap.index_map, V_u.dofmap.index_map_bs)\n",
    "J_u = fem.petsc.create_matrix(elastic_problem.a)\n",
    "# Create Newton solver and solve\n",
    "solver_u_snes = PETSc.SNES().create()\n",
    "solver_u_snes.setType(\"ksponly\")\n",
    "solver_u_snes.setFunction(elastic_problem.F, b_u)\n",
    "solver_u_snes.setJacobian(elastic_problem.J, J_u)\n",
    "solver_u_snes.setTolerances(rtol=1.0e-9, max_it=50)\n",
    "solver_u_snes.getKSP().setType(\"preonly\")\n",
    "solver_u_snes.getKSP().setTolerances(rtol=1.0e-9)\n",
    "solver_u_snes.getKSP().getPC().setType(\"lu\")"
   ]
  },
  {
   "attachments": {},
   "cell_type": "markdown",
   "metadata": {},
   "source": [
    "We test below the solution of the elasticity problem"
   ]
  },
  {
   "cell_type": "code",
   "execution_count": null,
   "metadata": {},
   "outputs": [],
   "source": [
    "\n",
    "def plot_damage_state(state, load=None):\n",
    "    \"\"\"\n",
    "    Plot the displacement and damage field with pyvista\n",
    "    \"\"\"\n",
    "    u = state[\"u\"]\n",
    "    alpha = state[\"alpha\"]\n",
    "\n",
    "    mesh = u.function_space.mesh\n",
    "\n",
    "    plotter = pyvista.Plotter(\n",
    "        title=\"Damage state\", window_size=[800, 300], shape=(1, 2)\n",
    "    )\n",
    "\n",
    "    topology, cell_types, x = plot.vtk_mesh(domain)\n",
    "    grid = pyvista.UnstructuredGrid(topology, cell_types, x)\n",
    "    \n",
    "    plotter.subplot(0, 0)\n",
    "    if load is not None:\n",
    "        plotter.add_text(f\"Displacement - load {load:3.3f}\", font_size=11)\n",
    "    else:\n",
    "        plotter.add_text(\"Displacement\", font_size=11)\n",
    "    vals = np.zeros((x.shape[0], 3))\n",
    "    vals[:,:len(u)] = u.x.array.reshape((x.shape[0], len(u)))\n",
    "    grid[\"u\"] = vals\n",
    "    warped = grid.warp_by_vector(\"u\", factor=0.1)\n",
    "    actor_1 = plotter.add_mesh(warped, show_edges=False)\n",
    "    plotter.view_xy()\n",
    "\n",
    "    plotter.subplot(0, 1)\n",
    "    if load is not None:\n",
    "        plotter.add_text(f\"Damage - load {load:3.3f}\", font_size=11)\n",
    "    else:\n",
    "        plotter.add_text(\"Damage\", font_size=11)\n",
    "\n",
    "    grid.point_data[\"alpha\"] = alpha.x.array\n",
    "    grid.set_active_scalars(\"alpha\")\n",
    "    plotter.add_mesh(grid, show_edges=False, show_scalar_bar=True, clim=[0, 1])\n",
    "    plotter.view_xy()\n",
    "    if not pyvista.OFF_SCREEN:\n",
    "       plotter.show()\n",
    "        \n",
    "load = 1.\n",
    "u_D.value = load\n",
    "u.x.array[:] = 0\n",
    "solver_u_snes.solve(None, u.vector)\n",
    "plot_damage_state(state,load=load)"
   ]
  },
  {
   "attachments": {},
   "cell_type": "markdown",
   "metadata": {
    "id": "yETlzbzzer2z"
   },
   "source": [
    "### Damage problem with bound-constraints\n",
    "\n",
    "The $\\alpha$-problem at fixed $u$ is a variational inequality, because of the irreversibility constraint. We solve it using a specific solver for bound-constrained provided by `PETSC`, called `SNESVI`. To this end we define with a specific syntax a class defining the problem, and the lower (`lb`) and upper (`ub`) bounds. "
   ]
  },
  {
   "attachments": {},
   "cell_type": "markdown",
   "metadata": {},
   "source": [
    "We now set up the PETSc solver using petsc4py (https://www.mcs.anl.gov/petsc/petsc-current/docs/manualpages/SNES/SNESVINEWTONRSLS.html)"
   ]
  },
  {
   "cell_type": "code",
   "execution_count": 63,
   "metadata": {},
   "outputs": [],
   "source": [
    "E_alpha = ufl.derivative(total_energy,alpha,ufl.TestFunction(V_alpha))\n",
    "E_alpha_alpha = ufl.derivative(E_alpha,alpha,ufl.TrialFunction(V_alpha))\n",
    "damage_problem = SNESProblem(E_alpha, alpha, bcs_alpha,J=E_alpha_alpha)"
   ]
  },
  {
   "cell_type": "code",
   "execution_count": 64,
   "metadata": {},
   "outputs": [],
   "source": [
    "\n",
    "b_alpha = la.create_petsc_vector(V_alpha.dofmap.index_map, V_alpha.dofmap.index_map_bs)\n",
    "J_alpha = fem.petsc.create_matrix(damage_problem.a)\n",
    "# Create Newton solver and solve\n",
    "solver_alpha_snes = PETSc.SNES().create()\n",
    "solver_alpha_snes.setType(\"vinewtonrsls\")\n",
    "solver_alpha_snes.setFunction(damage_problem.F, b_alpha)\n",
    "solver_alpha_snes.setJacobian(damage_problem.J, J_alpha)\n",
    "solver_alpha_snes.setTolerances(rtol=1.0e-9, max_it=50)\n",
    "solver_alpha_snes.getKSP().setType(\"preonly\")\n",
    "solver_alpha_snes.getKSP().setTolerances(rtol=1.0e-9)\n",
    "solver_alpha_snes.getKSP().getPC().setType(\"lu\")\n",
    "# We set the bound (Note: they are passed as reference and not as values)\n",
    "solver_alpha_snes.setVariableBounds(alpha_lb.vector,alpha_ub.vector)"
   ]
  },
  {
   "attachments": {},
   "cell_type": "markdown",
   "metadata": {},
   "source": [
    "Let us known test the damage solver"
   ]
  },
  {
   "cell_type": "code",
   "execution_count": null,
   "metadata": {},
   "outputs": [],
   "source": [
    "solver_alpha_snes.solve(None, alpha.vector)\n",
    "plot_damage_state(state,load=load)"
   ]
  },
  {
   "attachments": {},
   "cell_type": "markdown",
   "metadata": {
    "id": "0udH0Gdfer21"
   },
   "source": [
    "### The static problem: solution with the alternate minimization algorithm\n",
    "\n",
    "We solve the nonlinear problem in $(u,\\alpha)$ at each time-step by a fixed-point algorithm consisting in alternate minimization with respect to $u$ at fixed $\\alpha$ and viceversa, *i.e.* we solve till convergence the $u$- and the $\\alpha$-problems above."
   ]
  },
  {
   "attachments": {},
   "cell_type": "markdown",
   "metadata": {},
   "source": [
    "The main idea is to iterate as following solution of displacement and damage subproblem at fixed loading"
   ]
  },
  {
   "cell_type": "code",
   "execution_count": null,
   "metadata": {},
   "outputs": [],
   "source": [
    "with alpha.vector.localForm() as alpha_local:\n",
    "    alpha_local.set(0)\n",
    "\n",
    "for i in range(10):\n",
    "    print(f\"iteration {i}\")\n",
    "    solver_u_snes.solve(None, u.vector)\n",
    "    solver_alpha_snes.solve(None, alpha.vector)\n",
    "    plot_damage_state(state,load)"
   ]
  },
  {
   "attachments": {},
   "cell_type": "markdown",
   "metadata": {},
   "source": [
    "We need to add a convergence condition for the fixed point algorithm.\n",
    "We define it the following function"
   ]
  },
  {
   "cell_type": "code",
   "execution_count": 67,
   "metadata": {
    "tags": []
   },
   "outputs": [],
   "source": [
    "alt_min_parameters = {\"atol\": 1.e-8, \"max_iter\": 100}\n",
    "\n",
    "def simple_monitor(state, iteration, error_L2):\n",
    "    #if MPI.comm_world.rank == 0:\n",
    "    print(f\"Iteration: {iteration:3d}, Error: {error_L2:3.4e}\")\n",
    "    \n",
    "def alternate_minimization(state,parameters=alt_min_parameters,monitor=None):\n",
    "    \n",
    "    u = state[\"u\"]\n",
    "    alpha = state[\"alpha\"]\n",
    "    \n",
    "    alpha_old = fem.Function(alpha.function_space)\n",
    "    alpha.vector.copy(result=alpha_old.vector)\n",
    "    \n",
    "    for iteration in range(parameters[\"max_iter\"]):\n",
    "                              \n",
    "        # solve displacement\n",
    "        solver_u_snes.solve(None, u.vector)\n",
    "        \n",
    "        # solve damage\n",
    "        solver_alpha_snes.solve(None, alpha.vector)\n",
    "        \n",
    "        # check error and update\n",
    "        L2_error = ufl.inner(alpha - alpha_old, alpha - alpha_old) * dx\n",
    "        error_L2 = np.sqrt(fem.assemble_scalar(fem.form(L2_error)))\n",
    "        alpha.vector.copy(alpha_old.vector)\n",
    "        \n",
    "        if monitor is not None:\n",
    "            monitor(state, iteration, error_L2)\n",
    "                                 \n",
    "        if error_L2 <= parameters[\"atol\"]:\n",
    "            break\n",
    "    else:\n",
    "        pass #raise RuntimeError(f\"Could not converge after {iteration:3d} iteration, error {error_L2:3.4e}\") \n",
    "    \n",
    "    return (error_L2, iteration)"
   ]
  },
  {
   "attachments": {},
   "cell_type": "markdown",
   "metadata": {},
   "source": [
    "We can test it by solving the problem at fixed problem. We need to reset to zeror the damage field to start"
   ]
  },
  {
   "cell_type": "code",
   "execution_count": null,
   "metadata": {},
   "outputs": [],
   "source": [
    "alpha.x.array[:] = 0\n",
    "    \n",
    "alternate_minimization(state,parameters=alt_min_parameters,monitor=simple_monitor)\n",
    "plot_damage_state(state, load=load)"
   ]
  },
  {
   "attachments": {},
   "cell_type": "markdown",
   "metadata": {},
   "source": [
    "## Time-stepping: solving a quasi-static problem"
   ]
  },
  {
   "cell_type": "code",
   "execution_count": 69,
   "metadata": {},
   "outputs": [],
   "source": [
    "def postprocessing(state, iteration, error_L2):\n",
    "    \n",
    "    # Save number of iterations for the time step\n",
    "    iterations[i_t] = np.array([t,i_t])\n",
    "    \n",
    "    # Calculate the energies\n",
    "    elastic_energy_value = comm.allreduce(\n",
    "            dolfinx.fem.assemble_scalar(dolfinx.fem.form(elastic_energy)),\n",
    "            op=MPI.SUM,\n",
    "        )\n",
    "    surface_energy_value = comm.allreduce(dolfinx.fem.assemble_scalar(dolfinx.fem.form(dissipated_energy)),\n",
    "            op=MPI.SUM,\n",
    "        )\n",
    "    energies[i_t] = np.array([t,elastic_energy_value,surface_energy_value,elastic_energy_value+surface_energy_value])\n",
    "    \n",
    "    simple_monitor(state, iteration, error_L2)"
   ]
  },
  {
   "cell_type": "code",
   "execution_count": null,
   "metadata": {},
   "outputs": [],
   "source": [
    "load0 = float(eps_c)*L # reference value for the loading (imposed displacement)\n",
    "loads = load0*np.linspace(0,1.5,20)\n",
    "\n",
    "energies = np.zeros((len(loads),4))\n",
    "iterations = np.zeros((len(loads),2))\n",
    "\n",
    "alt_min_parameters = {\"atol\": 1.e-6,\"max_iter\": 100}\n",
    "\n",
    "with alpha.vector.localForm() as alpha_local:\n",
    "    alpha_local.set(0)\n",
    "\n",
    "for i_t, t in enumerate(loads):\n",
    "    u_D.value = t\n",
    "        \n",
    "    # update the lower bound\n",
    "    alpha.vector.copy(alpha_lb.vector)    \n",
    "    print(f\"-- Solving for t = {t:3.2f} --\")\n",
    "    alternate_minimization(state,parameters=alt_min_parameters,monitor=postprocessing)\n",
    "    plot_damage_state(state)"
   ]
  },
  {
   "cell_type": "code",
   "execution_count": null,
   "metadata": {
    "id": "gySiyQlrer24"
   },
   "outputs": [],
   "source": [
    "p1, = plt.plot(energies[:,0], energies[:,1],'b*',linewidth=2)\n",
    "p2, = plt.plot(energies[:,0], energies[:,2],'r^',linewidth=2)\n",
    "p3, = plt.plot(energies[:,0], energies[:,3],'ko',linewidth=2)\n",
    "plt.legend([p1, p2, p3], [\"Elastic\",\"Dissipated\",\"Total\"])\n",
    "plt.xlabel('Displacement')\n",
    "plt.ylabel('Energies')\n",
    "\n",
    "plt.axvline(x=eps_c*L, color='grey',linestyle='--', linewidth=2)\n",
    "plt.axhline(y=H, color='grey', linestyle='--', linewidth=2)\n",
    "\n",
    "plt.savefig(f\"output/energies.png\")"
   ]
  },
  {
   "attachments": {},
   "cell_type": "markdown",
   "metadata": {
    "id": "2UCtv-Yker2_"
   },
   "source": [
    "## Verification\n",
    "\n",
    "The plots above indicates that the crack appear at the elastic limit calculated analytically (see the gridlines) and that the dissipated energy coincide with the length of the crack times $G_c$. Let's check the latter explicity"
   ]
  },
  {
   "cell_type": "code",
   "execution_count": null,
   "metadata": {
    "id": "mrptael7er3A"
   },
   "outputs": [],
   "source": [
    "surface_energy_value = comm.allreduce(dolfinx.fem.assemble_scalar(dolfinx.fem.form(dissipated_energy)),\n",
    "            op=MPI.SUM)\n",
    "print(f\"The dissipated energy on a crack is {surface_energy_value:.3f}\")\n",
    "print(f\"The expected value is {H:f}\")"
   ]
  },
  {
   "attachments": {},
   "cell_type": "markdown",
   "metadata": {
    "id": "C-jo1UDHer3B"
   },
   "source": [
    "Let us look at the damage profile"
   ]
  },
  {
   "cell_type": "code",
   "execution_count": null,
   "metadata": {},
   "outputs": [],
   "source": [
    "from evaluate_at_points import evaluate_at_points\n",
    "tol = 0.001 # Avoid hitting the outside of the domain\n",
    "y = np.linspace(0 + tol, L - tol, 101)\n",
    "points = np.zeros((3, 101))\n",
    "points[0] = y\n",
    "points[1] = H/2\n",
    "\n",
    "\n",
    "fig = plt.figure()\n",
    "alpha_val = evaluate_at_points(points, alpha)\n",
    "plt.plot(points[0,:], alpha_val, \"k\", linewidth=2, label=\"Damage\")\n",
    "plt.grid(True)\n",
    "plt.xlabel(\"x\")\n",
    "plt.legend()\n",
    "\n",
    "# If run in parallel as a python file, we save a plot per processor\n",
    "plt.savefig(f\"output/damage_line_rank{MPI.COMM_WORLD.rank:d}.png\")"
   ]
  },
  {
   "attachments": {},
   "cell_type": "markdown",
   "metadata": {},
   "source": [
    "## Exercises\n",
    "\n",
    "- Replace the mesh with an unstructured mesh generated with gmsh\n",
    "- Refactor `alternate_minimization` as an external function or class to put in a seperate `.py` file to import in the notebook\n",
    "- Run simulations for\n",
    "    1. A slab with an hole in the center\n",
    "    2. A slab with a V-notch"
   ]
  },
  {
   "cell_type": "code",
   "execution_count": null,
   "metadata": {},
   "outputs": [],
   "source": []
  },
  {
   "cell_type": "code",
   "execution_count": null,
   "metadata": {},
   "outputs": [],
   "source": []
  }
 ],
 "metadata": {
  "colab": {
   "collapsed_sections": [],
   "name": "VarFrac.ipynb",
   "provenance": []
  },
  "kernelspec": {
   "display_name": "fenicsx-0.6.0",
   "language": "python",
   "name": "python3"
  },
  "language_info": {
   "codemirror_mode": {
    "name": "ipython",
    "version": 3
   },
   "file_extension": ".py",
   "mimetype": "text/x-python",
   "name": "python",
   "nbconvert_exporter": "python",
   "pygments_lexer": "ipython3",
   "version": "3.12.6"
  },
  "vscode": {
   "interpreter": {
    "hash": "00bfc9313c58f9e362bec94650c0d763b2021dbb0e36860df6c43a45cc922ade"
   }
  }
 },
 "nbformat": 4,
 "nbformat_minor": 4
}
