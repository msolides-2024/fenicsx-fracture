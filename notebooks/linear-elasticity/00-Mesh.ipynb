{
 "cells": [
  {
   "cell_type": "markdown",
   "id": "b02391f8",
   "metadata": {},
   "source": [
    "# Mesh generation and visualization\n",
    "*Authors: Corrado Maurini (corrado.maurini@sorbonne-universite.fr)*\n",
    "\n",
    "In this notebook you will find examples to\n",
    " - Generate meshes with `gmsh` and import them in `dolfinx`\n",
    " - Visualize the `dolfinx` mesh directly in the notebook using `pyvista`\n",
    " - Save the mesh to an `xdmf` file\n",
    "\n",
    "We consider an elastic slab $\\Omega$ with a straight crack $\\Gamma$\n",
    "Using the symmetry, we will consider only half of the domain in the computation and we refine the mesh around the crack tip.\n",
    "\n",
    "![title](domain.png)\n"
   ]
  },
  {
   "cell_type": "markdown",
   "id": "7a526c64",
   "metadata": {},
   "source": [
    "Let us generate a mesh using gmsh (http://gmsh.info/).\n",
    "\n",
    "The function to generate the mesh is reported in the external file `meshes.py`.\n",
    "The mesh is refined around the crack tip."
   ]
  },
  {
   "cell_type": "code",
   "execution_count": null,
   "id": "793460a5",
   "metadata": {},
   "outputs": [],
   "source": [
    "import gmsh\n",
    "import numpy as np\n",
    "from mpi4py import MPI\n",
    "from dolfinx.io import gmshio\n",
    "import dolfinx.plot"
   ]
  },
  {
   "cell_type": "markdown",
   "id": "fc2fcbc3",
   "metadata": {},
   "source": [
    "We define below the geometrical paramters of the mesh."
   ]
  },
  {
   "cell_type": "code",
   "execution_count": null,
   "id": "0da01fec",
   "metadata": {
    "lines_to_next_cell": 2
   },
   "outputs": [],
   "source": [
    "Lx = 1.0\n",
    "Ly = 0.5\n",
    "Lcrack = 0.3\n",
    "lc = 0.1\n",
    "dist_min = 0.1\n",
    "dist_max = 0.3\n",
    "refinement_ratio = 10\n",
    "gdim = 2"
   ]
  },
  {
   "cell_type": "markdown",
   "id": "b7cf941e",
   "metadata": {},
   "source": [
    "The following code block generates the mesh using the `gmsh` python interface. We refer the reader to the `gmsh` documentation for details: https://gmsh.info/doc/texinfo/gmsh.html\n",
    "\n",
    "We also define *MPI communicator*s, which are required only in parallel computation.\n",
    "They are not strictly necessary here, but we keep them to have this example working in general.\n",
    "The are set so that when we perform parallel computations, the mesh is generated on one processor (`model_rank=0`) and then it is distributed to all the processors (`mesh_comm = MPI.COMM_WORLD`). Further documentation about the use of MPI can be found at https://scientificcomputing.github.io/mpi-tutorial/notebooks/dolfinx_MPI_tutorial.html\n",
    "\n",
    "We define a dictionary `tags` to associate clear names to numerical tags that are used to identify the different part of the domain and the boundary"
   ]
  },
  {
   "cell_type": "code",
   "execution_count": null,
   "id": "71353989",
   "metadata": {
    "lines_to_next_cell": 2
   },
   "outputs": [],
   "source": [
    "mesh_comm = MPI.COMM_WORLD\n",
    "model_rank = 0\n",
    "gmsh.initialize()\n",
    "\n",
    "facet_tags = {\"left\": 1, \"right\": 2, \"top\": 3, \"crack\": 4, \"bottom_no_crack\": 5}\n",
    "cell_tags = {\"all\": 20}\n",
    "\n",
    "if mesh_comm.rank == model_rank:\n",
    "    model = gmsh.model()\n",
    "    model.add(\"Rectangle\")\n",
    "    model.setCurrent(\"Rectangle\")\n",
    "    # Create the points\n",
    "    p1 = model.geo.addPoint(0.0, 0.0, 0, lc)\n",
    "    p2 = model.geo.addPoint(Lcrack, 0.0, 0, lc)\n",
    "    p3 = model.geo.addPoint(Lx, 0, 0, lc)\n",
    "    p4 = model.geo.addPoint(Lx, Ly, 0, lc)\n",
    "    p5 = model.geo.addPoint(0, Ly, 0, lc)\n",
    "    # Create the lines\n",
    "    l1 = model.geo.addLine(p1, p2, tag=facet_tags[\"crack\"])\n",
    "    l2 = model.geo.addLine(p2, p3, tag=facet_tags[\"bottom_no_crack\"])\n",
    "    l3 = model.geo.addLine(p3, p4, tag=facet_tags[\"right\"])\n",
    "    l4 = model.geo.addLine(p4, p5, tag=facet_tags[\"top\"])\n",
    "    l5 = model.geo.addLine(p5, p1, tag=facet_tags[\"left\"])\n",
    "    # Create the surface\n",
    "    cloop1 = model.geo.addCurveLoop([l1, l2, l3, l4, l5])\n",
    "    surface_1 = model.geo.addPlaneSurface([cloop1])\n",
    "\n",
    "    # Define the mesh size and fields for the mesh refinement\n",
    "    model.mesh.field.add(\"Distance\", 1)\n",
    "    model.mesh.field.setNumbers(1, \"NodesList\", [p2])\n",
    "    # SizeMax -                   / ------------------\n",
    "    #                            /\n",
    "    # SizeMin -o----------------/\n",
    "    #          |                |  |\n",
    "    #        Point        DistMin   DistMax\n",
    "    model.mesh.field.add(\"Threshold\", 2)\n",
    "    model.mesh.field.setNumber(2, \"IField\", 1)\n",
    "    model.mesh.field.setNumber(2, \"LcMin\", lc / refinement_ratio)\n",
    "    model.mesh.field.setNumber(2, \"LcMax\", lc)\n",
    "    model.mesh.field.setNumber(2, \"DistMin\", dist_min)\n",
    "    model.mesh.field.setNumber(2, \"DistMax\", dist_max)\n",
    "    model.mesh.field.setAsBackgroundMesh(2)\n",
    "    gmsh.option.setNumber(\"General.Verbosity\", 3)\n",
    "    model.geo.synchronize()\n",
    "\n",
    "    # Assign mesh and facet tags\n",
    "    surface_entities = [entity[1] for entity in model.getEntities(2)]\n",
    "    model.addPhysicalGroup(2, surface_entities, tag=cell_tags[\"all\"])\n",
    "    model.setPhysicalName(2, 2, \"Rectangle surface\")\n",
    "    model.mesh.generate(gdim)\n",
    "\n",
    "    for key, value in facet_tags.items():\n",
    "        model.addPhysicalGroup(1, [value], tag=value)\n",
    "        model.setPhysicalName(1, value, key)"
   ]
  },
  {
   "cell_type": "markdown",
   "id": "ffbd82f3",
   "metadata": {},
   "source": [
    "We can now import the mesh in `dolfinx`"
   ]
  },
  {
   "cell_type": "code",
   "execution_count": null,
   "id": "6639f796",
   "metadata": {},
   "outputs": [],
   "source": [
    "msh, cell_tags, facet_tags = gmshio.model_to_mesh(\n",
    "    model, mesh_comm, model_rank, gdim=gdim\n",
    ")\n",
    "msh.name = \"rectangle\"\n",
    "cell_tags.name = f\"{msh.name}_cells\"\n",
    "facet_tags.name = f\"{msh.name}_facets\""
   ]
  },
  {
   "cell_type": "code",
   "execution_count": null,
   "id": "70e7905c",
   "metadata": {
    "lines_to_next_cell": 2
   },
   "outputs": [],
   "source": [
    "\n",
    "with dolfinx.io.XDMFFile(MPI.COMM_WORLD, \"output/mesh.xdmf\", \"w\") as file:\n",
    "    file.write_mesh(msh)\n",
    "    msh.topology.create_connectivity(1, 2)\n",
    "    file.write_meshtags(cell_tags, msh.geometry)\n",
    "    file.write_meshtags(facet_tags, msh.geometry)"
   ]
  },
  {
   "cell_type": "markdown",
   "id": "b97ec2d0",
   "metadata": {},
   "source": [
    "To plot the mesh we use `pyvista` see:\n",
    "- https://jorgensd.github.io/dolfinx-tutorial/chapter3/component_bc.html\n",
    "- https://docs.fenicsproject.org/dolfinx/main/python/demos/pyvista/demo_pyvista.py.html"
   ]
  },
  {
   "cell_type": "code",
   "execution_count": null,
   "id": "fd33d238",
   "metadata": {},
   "outputs": [],
   "source": [
    "import pyvista\n",
    "\n",
    "pyvista.set_jupyter_backend(\"static\")\n",
    "pyvista.start_xvfb()\n",
    "\n",
    "\n",
    "# Extract topology from mesh and create pyvista mesh\n",
    "topology, cell_types, x = dolfinx.plot.create_vtk_mesh(msh)\n",
    "grid = pyvista.UnstructuredGrid(topology, cell_types, x)\n",
    "\n",
    "plotter = pyvista.Plotter()\n",
    "plotter.add_mesh(grid, show_edges=True)\n",
    "plotter.camera_position = \"xy\"\n",
    "\n",
    "if not pyvista.OFF_SCREEN:\n",
    "    plotter.show()\n",
    "else:\n",
    "    plotter.screenshot(\"mesh.png\")"
   ]
  },
  {
   "cell_type": "markdown",
   "id": "850bf5ff",
   "metadata": {},
   "source": [
    "We wrap the code to generate the mesh in the external module `../python/meshes` to reuse it in the following tutorials.\n",
    "We can use it as follows:"
   ]
  },
  {
   "cell_type": "code",
   "execution_count": null,
   "id": "e42bf941",
   "metadata": {},
   "outputs": [],
   "source": [
    "import sys\n",
    "\n",
    "sys.path.append(\"../utils\")\n",
    "from meshes import generate_mesh_with_crack\n",
    "\n",
    "msh, mt, ft = generate_mesh_with_crack(\n",
    "    Lcrack=Lcrack,\n",
    "    Ly=0.5,\n",
    "    lc=0.1,  # caracteristic length of the mesh\n",
    "    refinement_ratio=10,  # how much it is refined at the tip zone\n",
    "    dist_min=dist_min,  # radius of tip zone\n",
    "    dist_max=dist_max,  # radius of the transition zone\n",
    "    verbosity=5,\n",
    ")"
   ]
  },
  {
   "cell_type": "code",
   "execution_count": null,
   "id": "11f563b6",
   "metadata": {},
   "outputs": [],
   "source": []
  }
 ],
 "metadata": {
  "jupytext": {
   "formats": "ipynb,py:percent"
  },
  "kernelspec": {
   "display_name": "Python 3 (ipykernel)",
   "language": "python",
   "name": "python3"
  }
 },
 "nbformat": 4,
 "nbformat_minor": 5
}
