{
 "cells": [
  {
   "attachments": {},
   "cell_type": "markdown",
   "id": "genetic-distance",
   "metadata": {},
   "source": [
    "# Linear Elasticity Fracture Mechanics\n",
    "\n",
    "*Authors:* \n",
    "- *Laura De Lorenzis (ETH Zürich)*\n",
    "- *Veronique Lazarus (ENSTA, IPP)*\n",
    "- *Corrado Maurini (Sorbonne Université, corrado.maurini@sorbonne-universite.fr)*\n",
    "\n",
    "This notebook serves as a tutorial for linear elastic fracture mechanics\n"
   ]
  },
  {
   "cell_type": "code",
   "execution_count": null,
   "id": "coral-cotton",
   "metadata": {},
   "outputs": [],
   "source": [
    "import sys\n",
    "sys.path.append(\"../utils\")\n",
    "\n",
    "# Import required libraries\n",
    "import matplotlib.pyplot as plt\n",
    "import numpy as np\n",
    "\n",
    "import dolfinx.fem as fem\n",
    "import dolfinx.mesh as mesh\n",
    "import dolfinx.io as io\n",
    "import dolfinx.plot as plot\n",
    "import ufl\n",
    "\n",
    "from mpi4py import MPI\n",
    "from petsc4py import PETSc\n",
    "from petsc4py.PETSc import ScalarType\n",
    "\n",
    "\n",
    "plt.rcParams[\"figure.figsize\"] = (6,3)\n",
    "\n",
    "outdir = \"output\"\n",
    "from pathlib import Path\n",
    "Path(outdir).mkdir(parents=True, exist_ok=True)\n"
   ]
  },
  {
   "attachments": {},
   "cell_type": "markdown",
   "id": "utility-shepherd",
   "metadata": {},
   "source": [
    "# Asymptotic field and SIF ($K_I$)\n",
    "\n",
    "Let us first get the elastic solution for a given crack length "
   ]
  },
  {
   "cell_type": "code",
   "execution_count": null,
   "id": "opposite-processing",
   "metadata": {},
   "outputs": [],
   "source": [
    "from elastic_solver import solve_elasticity\n",
    "\n",
    "Lx = 1.\n",
    "Ly = 0.5\n",
    "Lcrack = 0.3\n",
    "lc =.05\n",
    "dist_min = .1\n",
    "dist_max = .3\n",
    "uh, energy, sigma_ufl = solve_elasticity(Lx=Lx,\n",
    "                                         Ly=Ly,\n",
    "                                         Lcrack=Lcrack,\n",
    "                                         lc=lc,\n",
    "                                         refinement_ratio=20,\n",
    "                                         dist_min=dist_min,\n",
    "                                         dist_max=dist_max,\n",
    "                                         verbosity=1)\n",
    "\n",
    "from plots import warp_plot_2d\n",
    "import pyvista\n",
    "pyvista.set_jupyter_backend(\"static\")\n",
    "pyvista.start_xvfb()\n",
    "\n",
    "import ufl\n",
    "sigma_iso = 1./3*ufl.tr(sigma_ufl)*ufl.Identity(len(uh))\n",
    "sigma_dev =  sigma_ufl - sigma_iso\n",
    "von_Mises = ufl.sqrt(3./2*ufl.inner(sigma_dev, sigma_dev))\n",
    "V_dg = fem.FunctionSpace(uh.function_space.mesh, (\"DG\", 0))\n",
    "stress_expr = fem.Expression(von_Mises, V_dg.element.interpolation_points())\n",
    "vm_stress = fem.Function(V_dg)\n",
    "vm_stress.interpolate(stress_expr)\n",
    "\n",
    "plotter = warp_plot_2d(uh,cell_field=vm_stress,field_name=\"Von Mises stress\", factor=.1,show_edges=True,clim=[0.0, 1.0],show_scalar_bar=True)\n",
    "if not pyvista.OFF_SCREEN:\n",
    "    plotter.show()\n",
    "else:\n",
    "    figure = plotter.screenshot(f\"{outdir}/VonMises.png\")"
   ]
  },
  {
   "attachments": {},
   "cell_type": "markdown",
   "id": "conditional-original",
   "metadata": {},
   "source": [
    "## Crack opening displacement (COD)\n",
    "\n",
    "Let us get the vertical displacement at the crack lip"
   ]
  },
  {
   "cell_type": "code",
   "execution_count": null,
   "id": "promising-juvenile",
   "metadata": {},
   "outputs": [],
   "source": [
    "from evaluate_on_points import evaluate_on_points\n",
    "xs = np.linspace(0,Lcrack,100)\n",
    "ys = 0.0 * np.ones_like(xs)\n",
    "zs = 0.0 * np.ones_like(xs)\n",
    "points = np.array([xs,ys,zs])\n",
    "u_values = evaluate_on_points(uh,points)\n",
    "us = u_values[1][:,1]\n"
   ]
  },
  {
   "cell_type": "code",
   "execution_count": null,
   "id": "surrounded-paraguay",
   "metadata": {},
   "outputs": [],
   "source": [
    "plt.plot(xs,us,\".\")\n",
    "plt.xlim([0.,Lcrack])\n",
    "plt.xlabel(\"x - coordinate\")\n",
    "plt.ylabel(r\"$u_y$\")\n",
    "plt.title(\"Crack opening displacement\")\n",
    "plt.savefig(f\"{outdir}/COD.png\")"
   ]
  },
  {
   "attachments": {},
   "cell_type": "markdown",
   "id": "relevant-blink",
   "metadata": {},
   "source": [
    "As detailed in the lectures notes, we can estimate the value of the stress intensity factor $K_I$ by extrapolating $u \\sqrt{2\\pi/ r}$"
   ]
  },
  {
   "cell_type": "code",
   "execution_count": null,
   "id": "prompt-branch",
   "metadata": {},
   "outputs": [],
   "source": [
    "r = (Lcrack-xs)\n",
    "#r_ = r[np.where(xs<Lcrack)]\n",
    "#us_ = us[np.where(xs<Lcrack)]\n",
    "\n",
    "nu = 0.3\n",
    "E = 1.0\n",
    "mu = E / (2.0 * (1.0 + nu))\n",
    "kappa = (3 - nu) / (1 + nu)\n",
    "factor = 2 * mu / (kappa + 1)\n",
    "\n",
    "plt.semilogx(r,us * np.sqrt(2*np.pi/r)*factor,\".\")\n",
    "plt.xlabel(\"r\")\n",
    "plt.ylabel(r\"${u_y} \\,\\frac{2\\mu}{k+1} \\,\\sqrt{2\\pi/r}$\")\n",
    "plt.title(\"Crack opening displacement\")\n",
    "plt.savefig(f\"{outdir}/KI-COD.png\")"
   ]
  },
  {
   "attachments": {},
   "cell_type": "markdown",
   "id": "conventional-plastic",
   "metadata": {},
   "source": [
    "We estimate $K_I\\simeq 1.8\\pm0.1$"
   ]
  },
  {
   "attachments": {},
   "cell_type": "markdown",
   "id": "administrative-singapore",
   "metadata": {},
   "source": [
    "## Stress at the crack tip\n",
    "\n",
    "Let us get the stress around the crack tip"
   ]
  },
  {
   "cell_type": "code",
   "execution_count": null,
   "id": "4a12164b",
   "metadata": {},
   "outputs": [],
   "source": [
    "xs = np.linspace(Lcrack,2*Lcrack,1000)\n",
    "ys = 0.0 * np.ones_like(xs)\n",
    "zs = 0.0 * np.ones_like(xs)\n",
    "points = np.array([xs,ys,zs])\n",
    "r = (xs-Lcrack)\n",
    "sigma_xx_expr = fem.Expression(sigma_ufl[0,0], V_dg.element.interpolation_points())\n",
    "sigma_xx = fem.Function(V_dg)\n",
    "sigma_xx.interpolate(sigma_xx_expr)\n",
    "sigma_xx_values = evaluate_on_points(sigma_xx,points)[1]"
   ]
  },
  {
   "cell_type": "code",
   "execution_count": null,
   "id": "interstate-testing",
   "metadata": {},
   "outputs": [],
   "source": [
    "plt.plot(r,sigma_xx_values[:,0],\"o\")\n",
    "plt.xlabel(\"r\")\n",
    "plt.ylabel(r\"$\\sigma_{rr}$\")\n",
    "plt.title(\"Stress at the crack tip\")\n",
    "plt.savefig(f\"{outdir}/stress.png\")"
   ]
  },
  {
   "attachments": {},
   "cell_type": "markdown",
   "id": "caring-dialogue",
   "metadata": {},
   "source": [
    "As detailed in the lectures notes, we can estimate the value of the stress intensity factor $K_I$ by extrapolating $\\sigma_{rr} \\sqrt{2\\pi r}$"
   ]
  },
  {
   "cell_type": "code",
   "execution_count": null,
   "id": "educational-convertible",
   "metadata": {},
   "outputs": [],
   "source": [
    "plt.semilogx(r,sigma_xx_values[:,0]*np.sqrt(2*np.pi*r),\"o\")\n",
    "plt.xlabel(\"r\")\n",
    "plt.ylabel(r\"$\\sigma_{rr}*\\sqrt{2\\pi\\,r}$\")\n",
    "plt.title(\"Stress at the crack tip\")\n",
    "plt.savefig(f\"{outdir}/KI-stress.png\")\n"
   ]
  },
  {
   "attachments": {},
   "cell_type": "markdown",
   "id": "alternative-failure",
   "metadata": {},
   "source": [
    "We can say that $K_I\\simeq 1.5\\pm .5$ as from the COD, but this estimate is not precise and reliable. \n",
    "\n",
    "From Irwin's formula in plane-stress, we get the energy release rate (ERR)\n"
   ]
  },
  {
   "cell_type": "code",
   "execution_count": null,
   "id": "quarterly-prospect",
   "metadata": {},
   "outputs": [],
   "source": [
    "KI_estimate = 1.8 \n",
    "G_estimate = KI_estimate ** 2 / E # Irwin's formula in plane stress\n",
    "print(f\"ERR estimate is {G_estimate}\")"
   ]
  },
  {
   "attachments": {},
   "cell_type": "markdown",
   "id": "imposed-vancouver",
   "metadata": {},
   "source": [
    "# The elastic energy release rate "
   ]
  },
  {
   "attachments": {},
   "cell_type": "markdown",
   "id": "japanese-light",
   "metadata": {},
   "source": [
    "## Naïf method: finite difference of the potential energy"
   ]
  },
  {
   "attachments": {},
   "cell_type": "markdown",
   "id": "differential-transparency",
   "metadata": {},
   "source": [
    "Let us first calculate the potential energy for several crack lengths. We multiply the result by `2`` to account for the symmetry when comparing with the $K_I$ estimate above."
   ]
  },
  {
   "cell_type": "code",
   "execution_count": null,
   "id": "continued-catalyst",
   "metadata": {},
   "outputs": [],
   "source": [
    "Ls = np.linspace(Lcrack*.7,Lcrack*1.3,10)\n",
    "energies = np.zeros_like(Ls)\n",
    "Gs = np.zeros_like(Ls)\n",
    "for (i, L) in enumerate(Ls):\n",
    "    uh, energies[i], _ = solve_elasticity(Lx=Lx,\n",
    "                                          Ly=Ly\n",
    "                                          ,Lcrack=L,\n",
    "                                          lc=.05,\n",
    "                                          refinement_ratio=10,\n",
    "                                          dist_min=.1,\n",
    "                                          dist_max=1.,\n",
    "                                          verbosity=1)\n",
    "    \n",
    "energies = energies * 2"
   ]
  },
  {
   "attachments": {},
   "cell_type": "markdown",
   "id": "stunning-interpretation",
   "metadata": {},
   "source": [
    "We can estimate the ERR by taking the finite-difference approximation of the derivative"
   ]
  },
  {
   "cell_type": "code",
   "execution_count": null,
   "id": "brazilian-geology",
   "metadata": {},
   "outputs": [],
   "source": [
    "ERR_naif = -np.diff(energies)/np.diff(Ls)\n",
    "\n",
    "plt.figure()\n",
    "plt.plot(Ls, energies,\"*\")\n",
    "plt.xlabel(\"L_crack\")\n",
    "plt.ylabel(\"Potential energy\")\n",
    "plt.figure()\n",
    "plt.plot(Ls[0:-1], ERR_naif,\"o\")\n",
    "plt.ylabel(\"ERR\")\n",
    "plt.xlabel(\"L_crack\")\n",
    "#plt.axhline(G_estimate,linestyle='--',color=\"gray\")\n",
    "#plt.axvline(Lcrack,linestyle='--',color=\"gray\") "
   ]
  },
  {
   "attachments": {},
   "cell_type": "markdown",
   "id": "d5ba084f",
   "metadata": {},
   "source": [
    "# G-theta method: domain derivative\n",
    "This function implement the G-theta method to compte the ERR as described in the lecture notes (see https://gitlab.com/newfrac/CORE-school/newfrac-core-numerics/-/blob/master/Core_School_numerical_NOTES.pdf?ref_type=heads).\n",
    "\n",
    "We first create by an auxiliary computation a suitable theta-field.\n",
    "\n",
    "To this end, we solve an auxiliary problem for finding a $\\theta$-field which is equal to $1$ in a disk around the crack tip and vanishing on the boundary.\n",
    "This field defines the \"direction\" for the domain derivative, which should change the crack length, but not the outer boundary.  \n",
    "\n",
    "Here we determine the $\\theta$ field by solving the following problem\n",
    "\n",
    "$$\n",
    "\\Delta \\theta = 0\\quad \\text{for}\\quad x\\in\\Omega,\n",
    "\\quad \\theta=1\\quad \\text{for} \\quad x\\in \\mathrm{D}\\equiv\\{\\Vert x-x_\\mathrm{tip}\\Vert<R_{\\mathrm{int}}\\},\n",
    "\\quad \\theta=0\\quad \\text{for} \\quad x\\in\\partial\\Omega, \\;\\Vert x-x_\\mathrm{tip}\\Vert>R_{\\mathrm{ext}}\n",
    "$$\n",
    "\n",
    "This is implemented in the function below"
   ]
  },
  {
   "cell_type": "code",
   "execution_count": null,
   "id": "5f6ad09d",
   "metadata": {},
   "outputs": [],
   "source": [
    "def create_theta_field(domain,crack_tip,R_int,R_ext):\n",
    "    \n",
    "    def tip_distance(x):\n",
    "          return np.sqrt((x[0]-crack_tip[0])**2 + (x[1]-crack_tip[1])**2) \n",
    "    \n",
    "    V_theta = fem.FunctionSpace(domain,(\"Lagrange\",1))\n",
    "    \n",
    "   \n",
    "    # Define variational problem to define the theta-field. \n",
    "    # We solve a simple laplacian\n",
    "    theta, theta_ = ufl.TrialFunction(V_theta), ufl.TestFunction(V_theta)\n",
    "    a = ufl.dot(ufl.grad(theta), ufl.grad(theta_)) * ufl.dx\n",
    "    L = fem.Constant(domain,ScalarType(0.)) * theta_ * ufl.dx(domain=domain) \n",
    "\n",
    "    # Set the BCs\n",
    "    # Imposing 1 in the inner circle and zero in the outer circle\n",
    "    dofs_inner = fem.locate_dofs_geometrical(V_theta,lambda x : tip_distance(x) < R_int)\n",
    "    dofs_out = fem.locate_dofs_geometrical(V_theta,lambda x : tip_distance(x) > R_ext)\n",
    "    bc_inner = fem.dirichletbc(ScalarType(1.),dofs_inner,V_theta)\n",
    "    bc_out = fem.dirichletbc(ScalarType(0.),dofs_out,V_theta)\n",
    "    bcs = [bc_out, bc_inner]\n",
    "\n",
    "    # solve the problem\n",
    "    problem = fem.petsc.LinearProblem(a, L, bcs=bcs, petsc_options={\"ksp_type\": \"gmres\", \"pc_type\": \"gamg\"})\n",
    "    thetah = problem.solve()\n",
    "    return thetah\n",
    "\n",
    "crack_tip = np.array([Lcrack,0])\n",
    "crack_tangent = np.array([1,0])\n",
    "crack_tip = np.array([Lcrack,0])\n",
    "R_int = Lcrack/4.\n",
    "R_ext = Lcrack\n",
    "domain = uh.function_space.mesh\n",
    "thetah = create_theta_field(domain,crack_tip,R_int,R_ext)\n",
    "\n",
    "\n",
    "# Plot theta\n",
    "topology, cell_types, geometry = plot.create_vtk_mesh(thetah.function_space)\n",
    "grid = pyvista.UnstructuredGrid(topology, cell_types, geometry)\n",
    "grid.point_data[\"theta\"] = thetah.x.array.real\n",
    "grid.set_active_scalars(\"theta\")\n",
    "plotter = pyvista.Plotter()\n",
    "plotter.add_mesh(grid, show_edges=False)\n",
    "plotter.add_title(\"Theta-field\")\n",
    "plotter.view_xy()\n",
    "if not pyvista.OFF_SCREEN:\n",
    "    plotter.show()"
   ]
  },
  {
   "attachments": {},
   "cell_type": "markdown",
   "id": "abb5c045",
   "metadata": {},
   "source": [
    "From the scalar field, we define a vector field by multiplying by the tangent vector to the crack: t=[1,0]"
   ]
  },
  {
   "attachments": {},
   "cell_type": "markdown",
   "id": "ef6fcb45",
   "metadata": {},
   "source": [
    "Hence, we can compute the ERR with the formula\n",
    "$$\n",
    "G  = \\int_\\Omega \\left(\\sigma(\\varepsilon(u))\\cdot(\\nabla u\\nabla\\theta)-\\dfrac{1}{2}\\sigma(\\varepsilon(u))\\cdot \\varepsilon(u) \\mathrm{div}(\\theta)\\,\\right)\\mathrm{dx}$$"
   ]
  },
  {
   "cell_type": "code",
   "execution_count": 13,
   "id": "99b68680",
   "metadata": {},
   "outputs": [
    {
     "name": "stdout",
     "output_type": "stream",
     "text": [
      "The potential energy for Lcrack=1.000e-01 is -6.350e-01\n",
      "The ERR computed with the G-theta method is 0.3985\n"
     ]
    }
   ],
   "source": [
    "Lcrack = 0.1\n",
    "Lx = 1.\n",
    "Ly = 1.25\n",
    "crack_tip = np.array([Lcrack,0])\n",
    "crack_tangent = np.array([1,0])\n",
    "crack_tip = np.array([Lcrack,0])\n",
    "R_int = Lcrack/4\n",
    "R_ext = Lcrack\n",
    "uh, energy, sigma_ufl = solve_elasticity(Lx=Lx,Ly=Ly,Lcrack=Lcrack,lc=.02,refinement_ratio=30,dist_min=.1,dist_max=1.0)\n",
    "\n",
    "thetah = create_theta_field(uh.function_space.mesh,crack_tip,R_int,R_ext)\n",
    "eps_ufl = ufl.sym(ufl.grad(uh))\n",
    "theta_vector = ufl.as_vector([1.,0.]) * thetah\n",
    "dx = ufl.dx(domain=uh.function_space.mesh)\n",
    "first_term = ufl.inner(sigma_ufl,ufl.grad(uh) * ufl.grad(theta_vector)) * dx\n",
    "second_term = - 0.5 * ufl.inner(sigma_ufl,eps_ufl) * ufl.div(theta_vector) * dx\n",
    "\n",
    "G_theta = 2 * fem.assemble_scalar(fem.form(first_term + second_term))\n",
    "print(f'The ERR computed with the G-theta method is {G_theta:2.4f}' )"
   ]
  },
  {
   "cell_type": "code",
   "execution_count": null,
   "id": "05b7000a",
   "metadata": {},
   "outputs": [],
   "source": []
  },
  {
   "cell_type": "code",
   "execution_count": null,
   "id": "3ff8442b",
   "metadata": {},
   "outputs": [],
   "source": []
  }
 ],
 "metadata": {
  "jupytext": {
   "formats": "ipynb,py:percent"
  },
  "kernelspec": {
   "display_name": "fenicsx-0.6.0",
   "language": "python",
   "name": "python3"
  },
  "language_info": {
   "codemirror_mode": {
    "name": "ipython",
    "version": 3
   },
   "file_extension": ".py",
   "mimetype": "text/x-python",
   "name": "python",
   "nbconvert_exporter": "python",
   "pygments_lexer": "ipython3",
   "version": "3.10.12"
  },
  "vscode": {
   "interpreter": {
    "hash": "00bfc9313c58f9e362bec94650c0d763b2021dbb0e36860df6c43a45cc922ade"
   }
  }
 },
 "nbformat": 4,
 "nbformat_minor": 5
}
