{
 "cells": [
  {
   "cell_type": "markdown",
   "id": "143efbe1-a1c9-4512-af69-ce77b9ba94c6",
   "metadata": {
    "tags": []
   },
   "source": [
    "# The elastodynamics problem\n",
    "\n",
    "__Authors__: A. Chao Correas (arturo.chaocorreas@polito.it) and C. Maurini (corrado.maurini@sorbonne-universite.fr)"
   ]
  },
  {
   "cell_type": "markdown",
   "id": "9003a591-cab8-446d-9c17-02ed81c47f9b",
   "metadata": {
    "tags": []
   },
   "source": [
    "## Weak form of the elastodynamics problem"
   ]
  },
  {
   "cell_type": "markdown",
   "id": "ccf2a0e4-677d-44ca-bcd8-0c3b98503d5a",
   "metadata": {},
   "source": [
    "_Insert image_"
   ]
  },
  {
   "cell_type": "markdown",
   "id": "875df315-7c50-40ce-9f78-d68be1dbfe10",
   "metadata": {},
   "source": [
    "Let us assume an elastodynamics problem as the one above in which a domain $\\Omega$ is subjected to:\n",
    "\n",
    "1. Time-dependent displacement boundary conditions $\\underline{U}_{t}$ on the Dirichlet boundary $\\partial_{u}{\\Omega}$.\n",
    "2. Time-dependent surface loads  $\\underline{f}_{t}$ (Neumann BCs) along the Neumann boundary $\\partial_{f}{\\Omega}= \\partial{\\Omega} \\setminus \\partial_{u}{\\Omega}$.\n",
    "3. Time-dependent distributed body forces $\\underline{b}_{t}$ in $\\Omega$. \n",
    "\n",
    "And where the hypotheses of small deformations and small displacements hold. In such a problem, $\\underline{u}_{t}$, $\\dot{\\underline{u}}_{t}$ and $\\ddot{\\underline{u}}_{t}$ denote the displacement, velocity and acceleration vector fields at the instant $t$, respectively.\n",
    "\n",
    "To fulfill the Dirichlet boundary conditions, the displacement field $\\underline{u}_{t}$ must be admissible and belong to the affine space $\\mathrm{V}(t)$, which is defined as:\n",
    "\n",
    "$$ \n",
    "\\mathrm{V}(t) \n",
    "= \n",
    "\\left\\{ \\underline{u}_{t}(\\underline{x}) = \\underline{U}_{t}(\\underline{x}) \\quad \\forall \\underline{x} \\in \\partial_{u}\\Omega \\right\\} \n",
    "$$\n",
    "\n",
    "At the same time, the imposition of $\\underline{u}_{t}$ along $\\partial_{u}\\Omega$ also constrains the velocity and acceleration admissible fields to belong to the vector spaces $\\dot{\\mathrm{V}}(t)$ and $\\ddot{\\mathrm{V}}(t) $, respectively. In turn, these get defined mathematically as:\n",
    "\n",
    "$$ \n",
    "\\dot{\\mathrm{V}}(t) \n",
    "= \n",
    "\\left\\{ \\underline{v}_{t}(\\underline{x}) = \\dot{\\underline{U}_{t}}(\\underline{x}) \\quad \\forall \\underline{x} \\in \\partial_{u}\\Omega \\right\\} \n",
    "$$\n",
    "\n",
    "$$ \n",
    "\\ddot{\\mathrm{V}}(t) \n",
    "= \n",
    "\\left\\{ \\underline{a}_{t}(\\underline{x}) = \\ddot{\\underline{U}_{t}}(\\underline{x}) \\quad \\forall \\underline{x} \\in \\partial_{u}\\Omega \\right\\} \n",
    "$$\n",
    "\n",
    "All three affine spaces share the same homogenized vector space counterparts:\n",
    "\n",
    "$$ \n",
    "\\mathrm{V}_{0} = \\dot{\\mathrm{V}}_{0} = \\ddot{\\mathrm{V}}_{0}\n",
    "$$"
   ]
  },
  {
   "cell_type": "markdown",
   "id": "9991d35a-49fd-4716-94a2-120849c47f68",
   "metadata": {},
   "source": [
    "From these kinematic considerations, we can now state the elastodynamic problem for an elastic body submitted to dynamic external loads. In this scenario, the total potential energy of the system $\\mathcal{P}$ writes as:\n",
    "\n",
    "$$ \n",
    "\\mathcal{P}\\left(\\underline{u}_{t}, t\\right)  \n",
    "=\n",
    "\\mathcal{E}\\left(\\underline{u}_{t}, t\\right) \n",
    "- \n",
    "\\mathcal{W}_{\\mathrm{ext}}\\left(\\underline{u}_{t}, t\\right)\n",
    "$$\n",
    "\n",
    "where \n",
    "\n",
    "$$\n",
    "\\mathcal{E}\\left(\\underline{u}_{t},t\\right) \n",
    "= \n",
    "\\int_{\\Omega} \\psi \\left(\\underline{\\underline{\\varepsilon}} (\\underline{u}_{t}), \\underline{x}\\right) \\,\\mathrm{d}{x},\n",
    "\\qquad\n",
    "\\mathcal{W}_{\\mathrm{ext}}\\left(\\underline{u}_{t},t\\right) \n",
    "= \n",
    "\\int_{\\Omega} \\underline{b}_{t}(\\underline{x}) \\cdot \\underline{u}_{t}(\\underline{x}) \\,\\mathrm{d}{x} \n",
    "+ \n",
    "\\int_{\\partial_{f}\\Omega} \\underline{f}_{t}(\\underline{x}) \\cdot \\underline{u}_{t}(\\underline{x}) \\,\\mathrm{d}{s}\n",
    "$$\n",
    "\n",
    "are the strain energy and the work of the conservative external loads, respectively, with $\\psi$ being the strain energy density. \n",
    "\n",
    "On the other hand, the kinetic energy of the system is defined as:\n",
    "\n",
    "$$\n",
    "\\mathcal{K}\\left(\\dot{\\underline{u}}_{t},t\\right) \n",
    "= \n",
    "\\frac{1}{2} \\int_{\\Omega} \\rho \\dot{\\underline{u}}_{t}(\\underline{x}) \\cdot \\dot{\\underline{u}}_{t}(\\underline{x}) \\,\\mathrm{d}{x}\n",
    "$$\n",
    "\n",
    "where $\\rho$ represents the mass density of the material filling the domain."
   ]
  },
  {
   "cell_type": "markdown",
   "id": "f842ed7a-b0d3-4d2a-9d95-2d9b23b05bc5",
   "metadata": {},
   "source": [
    "So far, only conservative energies have been introduced, which would mean that the structure's motion would keep on forever. Nonetheless, in reality the systems dissipate energy when deformed through several mechanisms (heat, noise...). There exists different strategies to account for such energy losses, the one here implemented being to include a non-conservative Rayleigh-like dissipative term, whose power is defined as follows:\n",
    "\n",
    "$$\n",
    "\\mathcal{Q} \\left( \\dot{\\underline{u}}_{t}, t \\right) \n",
    "= \n",
    "\\frac{1}{2} \\int_{\\Omega} c_{1} \\dot{\\underline{u}}_{t}(\\underline{x}) \\cdot \\dot{\\underline{u}}_{t}(\\underline{x})\\,\\mathrm{d}{x} \n",
    "+\n",
    "\\frac{1}{2} \\int_{\\Omega} c_{2} \\left( \\underline{\\underline{\\varepsilon}} (\\dot{\\underline{u}}_{t}, \\underline{x}) : \\underline{\\underline{\\varepsilon}} (\\dot{\\underline{u}}_{t},\\underline{x})\\right)\\,\\mathrm{d}{x}\n",
    "$$\n",
    "\n",
    "where $c_{1}$ and $c_{2}$ are two \"viscosity\" moduli, whose units are $\\mathrm{N} \\mathrm{s} \\mathrm{m}^{-4}$ and $\\mathrm{N} \\mathrm{s} \\mathrm{m}^{-2}$, respectively, and $\\underline{\\underline{\\varepsilon}} (\\underline{\\bullet}, \\underline{x})$ represents the symetric part of the gradient of $(\\underline{\\bullet})$ at $\\underline{x}$.  With this definition, the energy losses in the continuum are considered to arise from:\n",
    "\n",
    "1. The velocity field, which can lead to dissipation through external mechanisms such as the friction with external fluids.\n",
    "2. The gradient of the velocity field, which accounts for dissipation due to the internal material friction when deforming. "
   ]
  },
  {
   "cell_type": "markdown",
   "id": "068e0761-85cc-4680-80ad-85a434d12971",
   "metadata": {},
   "source": [
    "Then, using the D'Alembert principle, one can determine the following weak formulation of the elastodynamics: \n",
    "\n",
    "$$ \n",
    "\\frac{\\mathrm{d}}{\\mathrm{d}t}\\left(\\mathrm{D}_{\\underline{\\dot{u}}}\\mathcal{K}\\left( \\dot{\\underline{u}}_{t},t\\right)\\left[\\hat{\\underline{u}} \\right]\\right) \n",
    "+\n",
    "\\mathrm{D}_{\\underline{u}} \\mathcal{P}\\left(\\underline{u}_{t}, t\\right)\\left[\\hat{\\underline{u}} \\right] \n",
    "= \n",
    "-\\mathrm{D}_{\\underline{\\dot{u}}}\\mathcal{Q} \\left( \\dot{\\underline{u}}_{t}, t \\right) \\left[\\hat{\\underline{u}} \\right]\n",
    "\\quad \\forall \\hat{\\underline{u}}(\\underline{x}) \\in \\mathrm{V}_{0}\n",
    "$$ \n",
    "\n",
    "where  $\\mathrm{D}_{\\underline{u}} \\mathcal{P}(\\underline u)[\\hat{\\underline{u}}]$ denotes the directional derivative of the functional $\\mathcal{P}(\\underline u)$ with respect to $\\underline{u}$ in the direction of $\\hat{\\underline{u}}$. In turn, the latter represents an admissible variation of $\\underline{u}_{t}$ so that it belongs to the homogeneous vector space $\\mathrm{V}_{0}$ above introduced.\n",
    "\n",
    "Expanding the different terms of the weak form, one obtains:\n",
    "\n",
    "$$\n",
    "\\int_{\\Omega}\\rho\\,\\ddot{\\underline{u}}_{t}(\\underline{x}) \\cdot \\hat{\\underline{u}}(\\underline{x}) \\,\\mathrm{d}x\n",
    "+\n",
    "\\int_{\\Omega} c_{1} \\,\\dot{\\underline{u}}_{t}(\\underline{x}) \\cdot \\hat{\\underline{u}}(\\underline{x}) \\,\\mathrm{d}x\n",
    "+ \n",
    "\\int_{\\Omega} \\underline{\\underline{\\sigma}} \\left( \\underline{\\underline{\\varepsilon}} (\\underline{u}_{t}, \\underline{x}), \\underline{\\underline{\\varepsilon}} (\\dot{\\underline{u}}_{t}, \\underline{x}), \\underline{x} \\right) : \\underline{\\underline{\\varepsilon}} (\\hat{\\underline{u}}_{t}, \\underline{x}) \\,\\mathrm{d}x\n",
    "=\n",
    "\\int_{\\Omega} \\underline{b}_{t}(\\underline{x})\\cdot \\hat{\\underline{u}}(\\underline{x})\\,\\mathrm{d}x\n",
    "+ \n",
    "\\int_{\\partial_\\Sigma\\Omega} {\\underline{f}}_{t}(\\underline{x}) \\cdot \\hat{\\underline{u}}(\\underline{x}) \\,\\mathrm{d}x\n",
    "\\quad \\forall \\hat{\\underline{u}} (\\underline{x}) \\in \\mathrm{V}_{0}\n",
    "$$\n",
    "\n",
    "where $\\underline{\\underline{\\sigma}}$ stands for the stress tensor field, defined as follows:\n",
    "\n",
    "$$\n",
    "\\underline{\\underline{\\sigma}}\\left(\\underline{\\underline{\\varepsilon}} (\\underline{u}_{t}, \\underline{x}), \\underline{\\underline{\\varepsilon}} (\\dot{\\underline{u}}_{t}, \\underline{x}), \\underline{x} \\right)\n",
    "= \n",
    "c_{2} \\, \\underline{\\underline{\\varepsilon}} (\\dot{\\underline{u}}_{t}, \\underline{x}) \n",
    "+ \n",
    "\\frac{\\partial \\psi\\left(\\underline{\\underline{\\varepsilon}} (\\underline{u}_{t}, \\underline{x}), \\underline{x}\\right)}{\\partial \\underline{\\underline{\\varepsilon}}} \n",
    "$$\n",
    "\n",
    "The presence of the acceleration $\\ddot{\\underline{u}}_{t}$ and velocity $\\dot{\\underline{u}}_{t}$ in the inertial and dissipative terms, respectively, makes the system history-dependent. As a consequence, and differently from the quasi-static case, the problem cannot be independently solved at each instant. To circumvent this difficulty, a time integration scheme is required towards relating the velocity and displacement fields to that of the acceleration, so that the governing equation can be entirely written in terms of the latter. In what follows, the well-established Newmark $\\beta$-method for time integration will be presented and used."
   ]
  },
  {
   "cell_type": "markdown",
   "id": "0a47d459-6675-4bf5-b6ce-91f32d1cd2b4",
   "metadata": {
    "tags": []
   },
   "source": [
    "# Newmark $\\beta$-method for time integration of dynamic problems\n",
    "Reference: Newmark N. M., 1959. A Method of Computation for Structural Dynamics. _J Eng Mech Div_. 85:67–94. https://doi.org/10.1061/JMCEA3.0000098"
   ]
  },
  {
   "cell_type": "markdown",
   "id": "b4e05c02-9e24-40bc-91b5-ad6d00afd865",
   "metadata": {},
   "source": [
    "Let us assume a time discretization of the temporal domain of the problem so that $t_i$ represents the latest instant at which the system's state is known, and $t_{i+1}$ is the earliest instant at which the solution is not known. On this basis, the one can define the time increment $\\Delta t_{i}$ as follows:\n",
    "\n",
    "$$ \\Delta t_{i} = t_{i+1}-t_{i}$$\n",
    "\n",
    "Then, using the extended mean value theorem, the displacement $\\underline{u}_{i+1}$ and velocity $\\dot{\\underline{u}}_{i+1}$ vector fields at $t_{i+1}$ can be approximated as:\n",
    "\n",
    "$$ \n",
    "\\underline{u}_{t_{i+1}}(\\underline{x})\n",
    "\\approx\n",
    "\\underline{u}_{i+1}\\left(\\ddot{\\underline{u}}_{i+1}, \\underline{x};\\, \\beta, \\underline{u}_{i}, \\dot{\\underline{u}}_{i}, \\ddot{\\underline{u}}_{i} \\right) \n",
    "= \n",
    "\\underline{u}_{i}(\\underline{x})\n",
    "+\n",
    "\\Delta t_{i}\\dot{\\underline{u}}_{i}(\\underline{x})\n",
    "+\n",
    "\\frac{{\\Delta t_i}^2}{2}\\left((1-2\\beta)\\,\\ddot{\\underline{u}}_{i}(\\underline{x})\n",
    "+\n",
    "2\\beta\\, \\ddot{\\underline{u}}_{i+1}(\\underline{x}) \\right) \n",
    "\\quad 0\\le 2\\beta\\le1 \n",
    "$$\n",
    "\n",
    "$$ \n",
    "\\dot{\\underline{u}}_{t_{i+1}}(\\underline{x})\n",
    "\\approx\n",
    "\\dot{\\underline{u}}_{i+1} \\left(\\ddot{\\underline{u}}_{i+1}, \\underline{x};\\, \\gamma, \\dot{\\underline{u}}_{i}, \\ddot{\\underline{u}}_{i} \\right)\n",
    "=\n",
    "\\dot{\\underline{u}}_{i}(\\underline{x})\n",
    "+\n",
    "\\Delta t_{i} \\left((1-\\gamma)\\,\\ddot{\\underline{u}}_{i}(\\underline{x})\n",
    "+\n",
    "\\gamma\\,\\ddot{\\underline{u}}_{i+1}(\\underline{x}) \\right) \n",
    "\\quad 0\\le\\gamma\\le1 \n",
    "$$\n",
    "\n",
    "Where the notation $(\\bullet) \\left(\\ddot{\\underline{u}}_{i+1};\\, \\{\\beta, \\gamma\\}, \\underline{u}_{i}, \\dot{\\underline{u}}_{i}, \\ddot{\\underline{u}}_{i}\\right)$ indicates that the corresponding magnitudes are a function of the unknown variable $\\ddot{\\underline{u}}_{i+1}$ and admits the known variables $\\{\\beta, \\gamma\\}, \\underline{u}_{i}, \\dot{\\underline{u}}_{i}, \\ddot{\\underline{u}}_{i}$ as parameters.\n",
    "Furthermore, $\\beta$ and $\\gamma$ are scalar parameters that allow to modify the characteristics of the time stepping scheme by weighting how much the acceleration at the instant $t_{i+1}$, i.e. $\\ddot{\\underline{u}}_{i+1}$, affects $\\underline{u}_{i+1}$ and $\\dot{\\underline{u}}_{i+1}$. Clearly, in this manner $\\ddot{\\underline{u}}_{i+1}$ becomes the only independent unkown of the elastodynamic problem. Now, particularizing the weak form of the elastodynamic problem to the instant $t_{i+1}$ and substituting $\\underline{u}_{t_{i+1}}$ and $\\dot{\\underline{u}}_{t_{i+1}}$ by their approximations above, one gets:\n",
    "\n",
    "$$\n",
    "\\int_{\\Omega}\\rho\\,\\ddot{\\underline{u}}_{i+1}(\\underline{x}) \\cdot \\hat{\\underline{u}}(\\underline{x})\\,\\mathrm{d}x\n",
    "+\n",
    "\\int_{\\Omega} c_{1} \\,\\dot{\\underline{u}}_{i+1}(\\underline{x}) \\cdot \\hat{\\underline{u}}(\\underline{x}) \\,\\mathrm{d}x\n",
    "+ \n",
    "\\int_{\\Omega} \\underline{\\underline{\\sigma}} \\left( \\underline{\\underline{\\varepsilon}}(\\underline{u}_{i+1}, \\underline{x}), \\underline{\\underline{\\varepsilon}}(\\dot{\\underline{u}}_{i+1}, \\underline{x}), \\underline{x} \\right) \\cdot \\underline{\\underline{\\varepsilon}}(\\hat{\\underline{u}}, \\underline{x}) \\,\\mathrm{d}x\n",
    "= \n",
    "\\int_{\\Omega} \\underline{b}_{i+1}(\\underline{x})\\cdot \\underline{\\hat u}(\\underline{x}) \\,\\mathrm{d}x + \n",
    "\\int_{\\partial_\\Sigma\\Omega} {\\underline{f}}_{i+1}(\\underline{x})\\cdot \\underline{\\hat u}(\\underline{x}) \\,\\mathrm{d}x \n",
    "\\quad \\forall \\underline{\\hat u}(\\underline{x}) \\in \\mathrm{V}_{0}\n",
    "$$\n",
    "\n",
    "Where the dependences of $\\underline{u}_{i+1}$ and $\\dot{\\underline{u}}_{i+1}$ have been ommitted for the sake of clarity. Consequently, the Newmark $\\beta$-method generally constitutes an implicit time integration scheme for it determines the independent unknown of the problem $\\ddot{\\underline{u}}_{i+1}$ as a function of the system's state at both instants $t_{i}$ and $t_{i+1}$. Nonetheless, in the absence of disspitation $\\mathcal {Q} = 0$ (although this limitation can be circumvented) and upon specific choice of the parameters $\\beta$ and $\\gamma$, this time integrator becomes explicit and it implementation can be highly optimized (See notebook `Elastodynamics: Explicit solver`).  \n"
   ]
  }
 ],
 "metadata": {
  "kernelspec": {
   "display_name": "Python 3 (ipykernel)",
   "language": "python",
   "name": "python3"
  },
  "language_info": {
   "codemirror_mode": {
    "name": "ipython",
    "version": 3
   },
   "file_extension": ".py",
   "mimetype": "text/x-python",
   "name": "python",
   "nbconvert_exporter": "python",
   "pygments_lexer": "ipython3",
   "version": "3.10.6"
  }
 },
 "nbformat": 4,
 "nbformat_minor": 5
}
